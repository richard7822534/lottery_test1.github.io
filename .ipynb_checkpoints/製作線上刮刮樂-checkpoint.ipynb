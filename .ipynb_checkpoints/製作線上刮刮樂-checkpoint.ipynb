{
 "cells": [
  {
   "cell_type": "code",
   "execution_count": 1,
   "metadata": {},
   "outputs": [],
   "source": [
    "import os\n",
    "# Importing the PIL library\n",
    "from PIL import Image\n",
    "from PIL import ImageDraw\n",
    "from PIL import ImageFont\n",
    "import shutil"
   ]
  },
  {
   "cell_type": "code",
   "execution_count": 2,
   "metadata": {},
   "outputs": [],
   "source": [
    "# create mask image\n",
    "# mask_im = Image.new(\"L\", santa.size, 0)\n",
    "# draw = ImageDraw.Draw(mask_im)\n",
    "# draw.ellipse((0, 0, int(ws*3/4), int(hs*3/4)), fill=255)\n",
    "# mask_im.save('./mask_circle.jpg')"
   ]
  },
  {
   "cell_type": "code",
   "execution_count": 3,
   "metadata": {},
   "outputs": [],
   "source": [
    "shrink = 2.5"
   ]
  },
  {
   "cell_type": "code",
   "execution_count": 4,
   "metadata": {},
   "outputs": [],
   "source": [
    "# Open covering image\n",
    "santa  = Image.open('./res/santa.jpg')\n",
    "ws, hs = santa.size\n",
    "\n",
    "santa1 = santa.resize((int(ws//shrink), int(hs//shrink)))\n",
    "ws1, hs1 = santa.size\n",
    "\n",
    "# Open mask image\n",
    "mask   = Image.open('./res/mask_circle.jpg')\n",
    "mask1  = mask.resize((int(ws//shrink), int(hs//shrink)))"
   ]
  },
  {
   "cell_type": "code",
   "execution_count": 5,
   "metadata": {},
   "outputs": [],
   "source": [
    "name  = '小綿羊'"
   ]
  },
  {
   "cell_type": "code",
   "execution_count": 18,
   "metadata": {},
   "outputs": [],
   "source": [
    "for i in range(3):\n",
    "    count = '0'+str(i+1)\n",
    "\n",
    "    # Open an Image\n",
    "    img  = Image.open('./res/res_{}.jpg'.format(count))\n",
    "    w, h = img.size\n",
    "\n",
    "    # Call draw Method to add 2D graphics in an image\n",
    "    I1 = ImageDraw.Draw(img)\n",
    "\n",
    "    # Custom font style and font size\n",
    "    myFont = ImageFont.truetype('simsun.ttc', 85)\n",
    "\n",
    "    # Add Text to an image\n",
    "    I1.text((int(w/2), int(h/2)), '\\n\\n\\n'.join(name), font=myFont, fill =(255, 0, 0), anchor=\"mm\")\n",
    "\n",
    "    # Save the edited image\n",
    "    if not os.path.exists(os.path.join(os.getcwd(), 'lottery', 'lottery_'+count)):\n",
    "        os.mkdir(os.path.join(os.getcwd(), 'lottery', 'lottery_'+count))\n",
    "\n",
    "    if not os.path.exists(os.path.join(os.getcwd(), 'lottery', 'lottery_'+count, 'img')):\n",
    "        os.mkdir(os.path.join(os.getcwd(), 'lottery', 'lottery_'+count, 'img'))\n",
    "\n",
    "    img.save(os.path.join(os.getcwd(), 'lottery', 'lottery_'+count, 'img', 'lottery_res.jpg'))\n",
    "\n",
    "\n",
    "    # add covering\n",
    "    cov_img = img.copy()\n",
    "\n",
    "    for i in range(len(name)):\n",
    "        cov_img.paste(santa1, (int((w-ws1/4)/2), int((h-hs1/4)/2) + int(hs1/4*(len(name)-1.5-i*1.5))), mask1)\n",
    "\n",
    "    cov_img.save(os.path.join(os.getcwd(), 'lottery', 'lottery_'+count, 'img', 'lottery_cov.jpg'))\n",
    "\n",
    "    # copy html to folder\n",
    "    shutil.copy2('./lottery.html', os.path.join(os.getcwd(), 'lottery', 'lottery_'+count))"
   ]
  },
  {
   "cell_type": "code",
   "execution_count": 37,
   "metadata": {},
   "outputs": [
    {
     "data": {
      "text/plain": [
       "603"
      ]
     },
     "execution_count": 37,
     "metadata": {},
     "output_type": "execute_result"
    }
   ],
   "source": [
    "# http://blog.lydian.tw/2012/01/html5-androidipad.html"
   ]
  }
 ],
 "metadata": {
  "kernelspec": {
   "display_name": "Python 3",
   "language": "python",
   "name": "python3"
  },
  "language_info": {
   "codemirror_mode": {
    "name": "ipython",
    "version": 3
   },
   "file_extension": ".py",
   "mimetype": "text/x-python",
   "name": "python",
   "nbconvert_exporter": "python",
   "pygments_lexer": "ipython3",
   "version": "3.8.8"
  }
 },
 "nbformat": 4,
 "nbformat_minor": 4
}
