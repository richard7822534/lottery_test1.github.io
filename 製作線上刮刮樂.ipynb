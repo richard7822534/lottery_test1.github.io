{
 "cells": [
  {
   "cell_type": "code",
   "execution_count": 1,
   "metadata": {},
   "outputs": [],
   "source": [
    "import os\n",
    "# Importing the PIL library\n",
    "from PIL import Image\n",
    "from PIL import ImageDraw\n",
    "from PIL import ImageFont\n",
    "import shutil"
   ]
  },
  {
   "cell_type": "code",
   "execution_count": 4,
   "metadata": {},
   "outputs": [
    {
     "data": {
      "text/plain": [
       "'C:\\\\Users\\\\richard\\\\RN_code\\\\線上刮刮樂\\\\lottery\\\\lottery_03\\\\lottery.html'"
      ]
     },
     "execution_count": 4,
     "metadata": {},
     "output_type": "execute_result"
    }
   ],
   "source": [
    "count = '03'\n",
    "\n",
    "# Open an Image\n",
    "img  = Image.open('./res/res_{}.jpg'.format(count))\n",
    "w, h = img.size\n",
    "\n",
    "# Open covering image\n",
    "santa  = Image.open('./res/santa.jpg')\n",
    "ws, hs = santa.size\n",
    "\n",
    "# Call draw Method to add 2D graphics in an image\n",
    "I1 = ImageDraw.Draw(img)\n",
    " \n",
    "# Custom font style and font size\n",
    "myFont = ImageFont.truetype('simsun.ttc', 65)\n",
    " \n",
    "# Add Text to an image\n",
    "I1.text((int(w/2), int(h/2)), \"安\\n安\", font=myFont, fill =(255, 0, 0), anchor=\"mm\")\n",
    " \n",
    "# Save the edited image\n",
    "if not os.path.exists(os.path.join(os.getcwd(), 'lottery', 'lottery_'+count)):\n",
    "    os.mkdir(os.path.join(os.getcwd(), 'lottery', 'lottery_'+count))\n",
    "\n",
    "if not os.path.exists(os.path.join(os.getcwd(), 'lottery', 'lottery_'+count, 'img')):\n",
    "    os.mkdir(os.path.join(os.getcwd(), 'lottery', 'lottery_'+count, 'img'))\n",
    "    \n",
    "img.save(os.path.join(os.getcwd(), 'lottery', 'lottery_'+count, 'img', 'lottery_res.jpg'))\n",
    "\n",
    "\n",
    "# add covering\n",
    "cov_img = img.copy()\n",
    "cov_img.paste(santa, (int((w-ws)/2), int((h-hs)/2)))\n",
    "cov_img.save(os.path.join(os.getcwd(), 'lottery', 'lottery_'+count, 'img', 'lottery_cov.jpg'))\n",
    "\n",
    "# copy html to folder\n",
    "shutil.copy2('./lottery.html', os.path.join(os.getcwd(), 'lottery', 'lottery_'+count))"
   ]
  },
  {
   "cell_type": "code",
   "execution_count": null,
   "metadata": {},
   "outputs": [],
   "source": []
  }
 ],
 "metadata": {
  "kernelspec": {
   "display_name": "Python 3",
   "language": "python",
   "name": "python3"
  },
  "language_info": {
   "codemirror_mode": {
    "name": "ipython",
    "version": 3
   },
   "file_extension": ".py",
   "mimetype": "text/x-python",
   "name": "python",
   "nbconvert_exporter": "python",
   "pygments_lexer": "ipython3",
   "version": "3.8.5"
  }
 },
 "nbformat": 4,
 "nbformat_minor": 4
}
